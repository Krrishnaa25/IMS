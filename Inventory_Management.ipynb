{
  "nbformat": 4,
  "nbformat_minor": 0,
  "metadata": {
    "colab": {
      "name": "Inventory_Management.ipynb",
      "provenance": [],
      "collapsed_sections": []
    },
    "kernelspec": {
      "display_name": "Python 3",
      "name": "python3"
    },
    "language_info": {
      "name": "python"
    }
  },
  "cells": [
    {
      "cell_type": "code",
      "metadata": {
        "id": "Mz6ZzJcVbjP5"
      },
      "source": [
        "# INVENTORY MANAGEMENT PROJECT \n",
        "# Made by:\n",
        "#   Atharv Patil\n",
        "#   Krishna Shreeram\n",
        "#   Gaurav Bhanot\n",
        "\n",
        "items={   # Quantity in Units for Snacks \n",
        "                    1002001:{'Item':'Kurkure','Price':20,'Quantity':40,'Shelf life':'2 Months'},\n",
        "                    1002002:{'Item':'Lays','Price':20,'Quantity':45,'Shelf Life':'2 Months'}, \n",
        "                    1002003:{'Item':'Coke','Price':15,'Quantity':30,'Shelf Life':'4 Months'},\n",
        "                    1002004:{'Item':'Perk','Price':5,'Quantity':45,'Shelf Life':'3 Months'},\n",
        "                    1002005:{'Item':'Parle-G','Price':10,'Quantity':60,'Shelf Life':'5 Months'},\n",
        "                    1002006:{'Item':'Oreo','Price':15,'Quantity':70,'Shelf Life':'5 Months'},\n",
        "                 \n",
        "                    # Quantity in kgs for Produce \n",
        "        1002007:{'Item':'Onions', 'Price':90, 'Quantity':20,'Shelf Life':'1 Week'},\n",
        "                    1002008:{'Item':'Potatoes', 'Price':20, 'Quantity':20,'Shelf Life':'1 Week'},\n",
        "                    1002009:{'Item':'Spinach', 'Price':25, 'Quantity':6,'Shelf Life':'1 Week'},\n",
        "                    1002010:{'Item':'Tomatoes', 'Price':45, 'Quantity':15,'Shelf Life':'1 Week'},\n",
        "                    1002011:{'Item':'Banana', 'Price':45, 'Quantity':5,'Shelf Life':'1 Week'},\n",
        "                    1002012:{'Item':'Apples', 'Price':50, 'Quantity':8,'Shelf Life':'1 Week'},\n",
        "                \n",
        "                    # Quantity in Units for Dairy\n",
        "         1002013:{'Item':'Milk', 'Price':35, 'Quantity':23,'Shelf Life':'7 Days'},\n",
        "                    1002014:{'Item':'Eggs', 'Price':60, 'Quantity':47,'Shelf Life':'12 Days'},\n",
        "                    1002015:{'Item':'Butter', 'Price':25, 'Quantity':12,'Shelf Life':'3 Months'},\n",
        "                    1002016:{'Item':'Cheese', 'Price':45, 'Quantity':27,'Shelf Life':'10 Months'},\n",
        "                    1002017:{'Item':'Yoghurt', 'Price':45, 'Quantity':13,'Shelf Life':'3 Weeks'},\n",
        "                    1002018:{'Item':'Ice cream', 'Price':50, 'Quantity':17,'Shelf Life':'3 Months'},  \n",
        "                \n",
        "                                # Quantity in Kgs for Nuts & Dry Fruits\n",
        "          1002019:{'Item':'Almonds','Price': 275,'Quantity':15,'Shelf Life': '12 Months'},\n",
        "                                1002020:{'Item':'Walnut','Price':285,'Quantity':14,'Shelf Life':'12 Months'},\n",
        "                                1002021:{'Item':'Raisins','Price':250,'Quantity':18,'Shelf Life':'12 Months'},\n",
        "                                1002022:{'Item':'Cashews','Price':240,'Quantity':13,'Shelf Life':'12 Months'},\n",
        "                                1002023:{'Item':'Sesame Seeds','Price':200,'Quantity':10,'Shelf Life':'12 Months'},\n",
        "                                1002024:{'Item':'Pumpkin Seeds','Price':190,'Quantity':8,'Shelf Life':'12 Months'}, \n",
        "                                     \n",
        "                            # Quantity in Unit for Sauces & Oils  \n",
        "           1002025:{'Item':'Chipotle', 'Price':100, 'Quantity':40,'Shelf Life':'6-12 months'},\n",
        "                            1002026:{'Item':'Peri peri', 'Price':100, 'Quantity':50,'Shelf Life':'6-12 months'},\n",
        "                            1002027:{'Item':'Tomato ketchup', 'Price':80, 'Quantity':100,'Shelf Life':'6-12 months'},\n",
        "                            1002028:{'Item':'Soya sauce', 'Price':120, 'Quantity':80,'Shelf Life':'6-12 months'},\n",
        "                            1002029:{'Item':'Vegetable oil', 'Price':110, 'Quantity':95,'Shelf Life':'6-12 months'},\n",
        "                            1002030:{'Item':'Olive oil', 'Price':140, 'Quantity':75,'Shelf Life':'6-12 months'}, \n",
        "                      \n",
        "}"
      ],
      "execution_count": 224,
      "outputs": []
    },
    {
      "cell_type": "code",
      "metadata": {
        "id": "QCI5uYCTbrYv"
      },
      "source": [
        "# Importing Libraries\n",
        "\n",
        "import json\n",
        "import time\n",
        "import math \n",
        "import geocoder\n",
        "from geopy.geocoders import Nominatim"
      ],
      "execution_count": 225,
      "outputs": []
    },
    {
      "cell_type": "code",
      "metadata": {
        "id": "o5tNGLqybs1h"
      },
      "source": [
        "# Converts dictionary to text\n",
        "inventory = json.dumps(items)"
      ],
      "execution_count": 226,
      "outputs": []
    },
    {
      "cell_type": "code",
      "metadata": {
        "id": "fDeTmr3Zb9fB"
      },
      "source": [
        "# Writing json file\n",
        "fd=open(\"Items.json\",\"w\")\n",
        "fd.write(inventory)\n",
        "fd.close()"
      ],
      "execution_count": 227,
      "outputs": []
    },
    {
      "cell_type": "code",
      "metadata": {
        "id": "FaXCazcHb_Pg"
      },
      "source": [
        "# Reading json file\n",
        "fd=open(\"Items.json\",\"r\")\n",
        "txt = fd.read()\n",
        "fd.close()"
      ],
      "execution_count": 228,
      "outputs": []
    },
    {
      "cell_type": "code",
      "metadata": {
        "id": "GKFC_FOrdFgZ"
      },
      "source": [
        "# Converts text to dictionary\n",
        "items = json.loads(txt)"
      ],
      "execution_count": 229,
      "outputs": []
    },
    {
      "cell_type": "code",
      "metadata": {
        "id": "BDHb616neaX0",
        "colab": {
          "base_uri": "https://localhost:8080/"
        },
        "outputId": "43341dfe-d81c-4bef-c320-871b86a28886"
      },
      "source": [
        "# List of items available in the store\n",
        "print(\"                     WELCOME TO THE ETG STORE\")\n",
        "print(\"**************************************************************************\")\n",
        "print(\"On the purchase of items worth 1000 Rs or more you will get a discount of 15%!\")\n",
        "print(\"**************************************************************************\")\n",
        "print(\"           The following items are available in the store:                \")\n",
        "print(\"**************************************************************************\")\n",
        "for key in items:\n",
        "  \n",
        " print(items[key]['Item'],\":\",items[key]['Price'],\"Rs\")\n",
        "print(\"**************************************************************************\")  "
      ],
      "execution_count": 230,
      "outputs": [
        {
          "output_type": "stream",
          "name": "stdout",
          "text": [
            "                     WELCOME TO THE ETG STORE\n",
            "**************************************************************************\n",
            "On the purchase of items worth 1000 Rs or more you will get a discount of 15%!\n",
            "**************************************************************************\n",
            "           The following items are available in the store:                \n",
            "**************************************************************************\n",
            "Kurkure : 20 Rs\n",
            "Lays : 20 Rs\n",
            "Coke : 15 Rs\n",
            "Perk : 5 Rs\n",
            "Parle-G : 10 Rs\n",
            "Oreo : 15 Rs\n",
            "Onions : 90 Rs\n",
            "Potatoes : 20 Rs\n",
            "Spinach : 25 Rs\n",
            "Tomatoes : 45 Rs\n",
            "Banana : 45 Rs\n",
            "Apples : 50 Rs\n",
            "Milk : 35 Rs\n",
            "Eggs : 60 Rs\n",
            "Butter : 25 Rs\n",
            "Cheese : 45 Rs\n",
            "Yoghurt : 45 Rs\n",
            "Ice cream : 50 Rs\n",
            "Almonds : 275 Rs\n",
            "Walnut : 285 Rs\n",
            "Raisins : 250 Rs\n",
            "Cashews : 240 Rs\n",
            "Sesame Seeds : 200 Rs\n",
            "Pumpkin Seeds : 190 Rs\n",
            "Chipotle : 100 Rs\n",
            "Peri peri : 100 Rs\n",
            "Tomato ketchup : 80 Rs\n",
            "Soya sauce : 120 Rs\n",
            "Vegetable oil : 110 Rs\n",
            "Olive oil : 140 Rs\n",
            "**************************************************************************\n"
          ]
        }
      ]
    },
    {
      "cell_type": "code",
      "metadata": {
        "colab": {
          "base_uri": "https://localhost:8080/"
        },
        "id": "15NMutZffTO3",
        "outputId": "881c701b-dfd9-4241-987b-d36b34768629"
      },
      "source": [
        "# Asking customers for items and adding in cart\n",
        "cart=[]\n",
        "flag = True\n",
        "total_price = 0\n",
        "item = 0\n",
        "while(flag==True):\n",
        "  item_name = input(\"Enter the item you want to purchase : \")\n",
        "  item_quantity = int(input(\"Enter the number of units you would like to buy : \"))\n",
        "  for key in items:\n",
        "\n",
        "    if item_name.lower()==items[key][\"Item\"].lower():\n",
        "      # Error Handling\n",
        "      if item_quantity > items[key][\"Quantity\"]:\n",
        "        print(\"We only have\",items[key][\"Quantity\"],\"in stock.\")\n",
        "        break\n",
        "          \n",
        "      # Adding Items to cart\n",
        "      print(item_quantity,\"units of\",items[key][\"Item\"],\"each of\",items[key]['Price'],\"Rs added to your cart\")\n",
        "      items[key]['Quantity']=items[key]['Quantity']-item_quantity\n",
        "      total_price += items[key]['Price']*item_quantity\n",
        "      item+=1\n",
        "      cart_value=items[key][\"Item\"]+\", Price : \"+str(items[key][\"Price\"])+\" Rs, Units : \"+str(item_quantity)\n",
        "      cart.append(cart_value)\n",
        "\n",
        "  if input(\"Do you want to continue shopping? (Yes/No): \").lower()==\"yes\":\n",
        "    flag = True            \n",
        "  else:\n",
        "    flag = False    "
      ],
      "execution_count": 231,
      "outputs": [
        {
          "name": "stdout",
          "output_type": "stream",
          "text": [
            "Enter the item you want to purchase : Butter\n",
            "Enter the number of units you would like to buy : 10\n",
            "10 units of Butter each of 25 Rs added to your cart\n",
            "Do you want to continue shopping? (Yes/No): yes\n",
            "Enter the item you want to purchase : Kurkure\n",
            "Enter the number of units you would like to buy : 100\n",
            "We only have 40 in stock.\n",
            "Do you want to continue shopping? (Yes/No): yes\n",
            "Enter the item you want to purchase : Butter\n",
            "Enter the number of units you would like to buy : 5\n",
            "We only have 2 in stock.\n",
            "Do you want to continue shopping? (Yes/No): yes\n",
            "Enter the item you want to purchase : Almonds\n",
            "Enter the number of units you would like to buy : 8\n",
            "8 units of Almonds each of 275 Rs added to your cart\n",
            "Do you want to continue shopping? (Yes/No): no\n"
          ]
        }
      ]
    },
    {
      "cell_type": "code",
      "metadata": {
        "id": "dLUwnYpWlFmB",
        "colab": {
          "base_uri": "https://localhost:8080/"
        },
        "outputId": "11d38cf3-5505-4993-91b4-9eddf40f3af4"
      },
      "source": [
        "# Checking Stock for all items\n",
        "for key in items:\n",
        "  if items[key]['Quantity'] < 5:\n",
        "    print(items[key]['Item'],\": Alert! Low on quantity. Restock!\")"
      ],
      "execution_count": 232,
      "outputs": [
        {
          "output_type": "stream",
          "name": "stdout",
          "text": [
            "Butter : Alert! Low on quantity. Restock!\n"
          ]
        }
      ]
    },
    {
      "cell_type": "code",
      "metadata": {
        "id": "-mus4ewumFPn",
        "colab": {
          "base_uri": "https://localhost:8080/"
        },
        "outputId": "1a6bd283-6df8-4dc1-e4e5-16927b704127"
      },
      "source": [
        "#Checking Stock for specific items\n",
        "flag = True\n",
        "while(flag == True):\n",
        "  item_stock_check=input(\"Enter the item's stock you want to check : \")\n",
        "  for key in items:\n",
        "    if items[key]['Item'] == item_stock_check:\n",
        "      print(items[key]['Item'],\":\",items[key]['Quantity'])\n",
        "  if input(\"Do you want to check the stock for another item? (Yes/No): \").lower()==\"yes\":\n",
        "    flag = True            \n",
        "  else:\n",
        "    flag = False    "
      ],
      "execution_count": 233,
      "outputs": [
        {
          "name": "stdout",
          "output_type": "stream",
          "text": [
            "Enter the item's stock you want to check : Almonds\n",
            "Almonds : 7\n",
            "Do you want to check the stock for another item? (Yes/No): yes\n",
            "Enter the item's stock you want to check : Chipotle\n",
            "Chipotle : 40\n",
            "Do you want to check the stock for another item? (Yes/No): no\n"
          ]
        }
      ]
    },
    {
      "cell_type": "code",
      "metadata": {
        "id": "fnDCUX8NgPGn",
        "colab": {
          "base_uri": "https://localhost:8080/"
        },
        "outputId": "f46064a9-02aa-41d2-db6c-ca11fae2af29"
      },
      "source": [
        "# Viewing cart \n",
        "cart_see=input(\"Do you want to see your cart?(Yes/No) \")\n",
        "if cart_see.lower() == \"yes\":\n",
        " print(\"These are the items you have added in your cart: \")\n",
        " for i in range(len(cart)):\n",
        "  print(cart[i])"
      ],
      "execution_count": 234,
      "outputs": [
        {
          "output_type": "stream",
          "name": "stdout",
          "text": [
            "Do you want to see your cart?(Yes/No) yes\n",
            "These are the items you have added in your cart: \n",
            "Butter, Price : 25 Rs, Units : 10\n",
            "Almonds, Price : 275 Rs, Units : 8\n"
          ]
        }
      ]
    },
    {
      "cell_type": "code",
      "metadata": {
        "id": "fatsDxE8dtTT",
        "colab": {
          "base_uri": "https://localhost:8080/"
        },
        "outputId": "4fe9a138-3aa5-4737-ecbe-8789e93919ad"
      },
      "source": [
        "# Discount\n",
        "if total_price > 1000:\n",
        "  print(\"Congratualations! You are eligible for a 15% discount!\")\n",
        "  print(\"Let's get you your Bill\")\n",
        "  total_price*=0.85\n",
        "  discounted_price=total_price\n",
        "else:\n",
        "  print(\"Let's get you your Bill\")"
      ],
      "execution_count": 235,
      "outputs": [
        {
          "output_type": "stream",
          "name": "stdout",
          "text": [
            "Congratualations! You are eligible for a 15% discount!\n",
            "Let's get you your Bill\n"
          ]
        }
      ]
    },
    {
      "cell_type": "code",
      "metadata": {
        "id": "SKmFuHV3T6b3",
        "colab": {
          "base_uri": "https://localhost:8080/"
        },
        "outputId": "c8595949-215e-4b10-806c-6da87ed4084c"
      },
      "source": [
        "# ETG Membership\n",
        "members = {'Atharv':{'Number':'8879923737','Points':0},\n",
        "           'Krishna':{'Number':'8976879892','Points':50},\n",
        "           'Gaurav':{'Number':'6969696969','Points':200}\n",
        "           }\n",
        "member = input(\"Are you an existing member of The ETG Store? (Yes/No) : \")\n",
        "if member.lower() == \"yes\":\n",
        "  member_name = input(\"Enter your name : \")\n",
        "  phone_number = input(\"Enter your mobile number : \")\n",
        "  # Checking for number in database\n",
        "  if phone_number == members[member_name][\"Number\"]:\n",
        "    # Payment by Points\n",
        "    use_points = input(\"Would you like to use your points? (Yes/No) : \")\n",
        "    if members[member_name]['Points'] == 0:\n",
        "      print(\"Sorry, you have no points left.\")\n",
        "    else:  \n",
        "      mem_points = members[member_name]['Points'] \n",
        "      members[member_name]['Points'] = 0\n",
        "      members[member_name]['Points'] += total_price * 0.1\n",
        "  else:\n",
        "    print(\"Sorry! We could not find your number.\")\n",
        "else:\n",
        "  new_mem=input(\"Would you like to become a member? (Yes/No) : \")\n",
        "  if new_mem.lower() == \"yes\":\n",
        "    new_name=input(\"Enter your name : \")\n",
        "    new_phonenum=int(input(\"Enter your phone number : \"))\n",
        "    new_data={'Number':new_phonenum,'Points':0}\n",
        "    members[new_name]=new_data\n",
        "    members[new_name]['Points'] = total_price * 0.1\n",
        "    print(\"Congratulations on becoming a member!!\")"
      ],
      "execution_count": 236,
      "outputs": [
        {
          "output_type": "stream",
          "name": "stdout",
          "text": [
            "Are you an existing member of The ETG Store? (Yes/No) : no\n",
            "Would you like to become a member? (Yes/No) : yes\n",
            "Enter your name : Ashish\n",
            "Enter your phone number : 9867897669\n",
            "Congratulations on becoming a member!!\n"
          ]
        }
      ]
    },
    {
      "cell_type": "code",
      "metadata": {
        "id": "GtJ8CM0QTYxY",
        "colab": {
          "base_uri": "https://localhost:8080/"
        },
        "outputId": "3263365f-8af6-4a81-d8f5-63ec17095e45"
      },
      "source": [
        "# Tax\n",
        "final_price = math.ceil(total_price+(total_price*0.025)-mem_points)\n",
        "print(\"Total Price :\",final_price,\"Rs\")\n",
        "\n",
        "# Payment by customer\n",
        "payment =  int(input(\"Amount Paid : \"))\n",
        "if payment < final_price:\n",
        "  print(\"Your total price is\",final_price,\"Rs\")\n",
        "  payment =  int(input(\"Amount Paid : \"))\n",
        "change = payment - final_price "
      ],
      "execution_count": 237,
      "outputs": [
        {
          "name": "stdout",
          "output_type": "stream",
          "text": [
            "Total Price : 2085 Rs\n",
            "Amount Paid : 2100\n"
          ]
        }
      ]
    },
    {
      "cell_type": "code",
      "metadata": {
        "id": "-xhiv7wns09l"
      },
      "source": [
        "# Getting the location\n",
        "geoLoc = Nominatim(user_agent=\"GetLoc\")\n",
        "g = geocoder.ip('me')\n",
        "locname = geoLoc.reverse(g.latlng)\n",
        "# Spliting the location \n",
        "words = locname.address.split()\n",
        "grouped_words = [' '.join(words[i: i + 6]) for i in range(0, len(words), 6)]"
      ],
      "execution_count": 238,
      "outputs": []
    },
    {
      "cell_type": "code",
      "metadata": {
        "id": "0LRdU8NHnTUs",
        "colab": {
          "base_uri": "https://localhost:8080/"
        },
        "outputId": "5460f888-f619-4e89-9404-7f257431a6cb"
      },
      "source": [
        "# Billing\n",
        "location=input(\"Is this a home delivery order? (Yes/No) : \")\n",
        "# For on shop billing\n",
        "if location.lower() == \"no\":\n",
        "  print(\"                  The ETG Store!                  \")\n",
        "  print(\"     MG Road, Sector 11, Plot no. 22, Bangalore    \")     \n",
        "  print(\"             Phone number: 7559396109              \")                                \n",
        "  print(\"**************************************************\")\n",
        "  print(\"                      Bill                        \")\n",
        "  print(\"**************************************************\")\n",
        "  print(\"           \",time.ctime(),\"                   \")\n",
        "  print(\"**************************************************\")\n",
        "  print(\"                     Item(s)                      \\n\")\n",
        "  print(\"            Total number of items:\",item)\n",
        "\n",
        "\n",
        "  for i in range(len(cart)):\n",
        "    print(\"       \",cart[i])\n",
        "    print(\"**************************************************\")\n",
        "\n",
        "  print(\"    Price after discount(if applicable):\",discounted_price)\n",
        "  print(\"           Price excluding tax:\",total_price,\"Rs.\")\n",
        "  print(\"           Price including tax:\",final_price,\"Rs.\")\n",
        "  print(\"**************************************************\")\n",
        "  print(\"              Amount Paid: \",payment,\"Rs.\") \n",
        "  print(\"             Amount Returned: \",change, \"Rs.\")  \n",
        "  print(\"**************************************************\\n\")\n",
        "\n",
        "  print(\"         Thank you for shopping with us!         \\n\")\n",
        "\n",
        "# For door step billing\n",
        "else:\n",
        "  print(\"                  The ETG Store!                  \")\n",
        "  print(\"     MG Road, Sector 11, Plot no. 22, Bangalore    \")     \n",
        "  print(\"             Phone number: 7559396109              \")                                \n",
        "  print(\"**************************************************\")\n",
        "  print(\"                      Bill                        \")\n",
        "  print(\"**************************************************\")\n",
        "  print(\"           \",time.ctime(),\"                   \")\n",
        "  print(\"**************************************************\")\n",
        "  print(\"                 Delivered To:\")\n",
        "  # Printing the location\n",
        "  for i in grouped_words:\n",
        "    print(i)\n",
        "  print(\"**************************************************\")\n",
        "  print(\"                     Item(s)                      \\n\")\n",
        "  print(\"            Total number of items:\",item)\n",
        "\n",
        "\n",
        "  for i in range(len(cart)):\n",
        "    print(\"       \",cart[i])\n",
        "    print(\"**************************************************\")\n",
        "\n",
        "  print(\"    Price after discount(if applicable):\",discounted_price)\n",
        "  print(\"           Price excluding tax:\",total_price,\"Rs.\")\n",
        "  print(\"           Price including tax:\",final_price,\"Rs.\")\n",
        "  print(\"**************************************************\")\n",
        "  print(\"              Amount Paid: \",payment,\"Rs.\") \n",
        "  print(\"             Amount Returned: \",change, \"Rs.\")  \n",
        "  print(\"**************************************************\\n\")\n",
        "\n",
        "  print(\"         Thank you for shopping with us!         \\n\")\n"
      ],
      "execution_count": 239,
      "outputs": [
        {
          "output_type": "stream",
          "name": "stdout",
          "text": [
            "Is this a home delivery order? (Yes/No) : yes\n",
            "                  The ETG Store!                  \n",
            "     MG Road, Sector 11, Plot no. 22, Bangalore    \n",
            "             Phone number: 7559396109              \n",
            "**************************************************\n",
            "                      Bill                        \n",
            "**************************************************\n",
            "            Fri Sep  3 13:38:22 2021                    \n",
            "**************************************************\n",
            "                 Delivered To:\n",
            "3347, Rivers Avenue, North Charleston, Charleston\n",
            "County, South Carolina, 29405, United States\n",
            "**************************************************\n",
            "                     Item(s)                      \n",
            "\n",
            "            Total number of items: 2\n",
            "        Butter, Price : 25 Rs, Units : 10\n",
            "**************************************************\n",
            "        Almonds, Price : 275 Rs, Units : 8\n",
            "**************************************************\n",
            "    Price after discount(if applicable): 2082.5\n",
            "           Price excluding tax: 2082.5 Rs.\n",
            "           Price including tax: 2085 Rs.\n",
            "**************************************************\n",
            "              Amount Paid:  2100 Rs.\n",
            "             Amount Returned:  15 Rs.\n",
            "**************************************************\n",
            "\n",
            "         Thank you for shopping with us!         \n",
            "\n"
          ]
        }
      ]
    },
    {
      "cell_type": "code",
      "metadata": {
        "id": "B_83Y6vucbES"
      },
      "source": [
        "fd=open(\"Items.json\",\"w\")\n",
        "fd.write(inventory)\n",
        "fd.close()"
      ],
      "execution_count": 240,
      "outputs": []
    },
    {
      "cell_type": "code",
      "metadata": {
        "id": "ttuMut_Xhp9q"
      },
      "source": [
        "num=json.dumps(members)"
      ],
      "execution_count": 241,
      "outputs": []
    },
    {
      "cell_type": "code",
      "metadata": {
        "id": "aYZ7kKiWhwxb"
      },
      "source": [
        "fd=open(\"Members.json\",\"w\")\n",
        "fd.write(num)\n",
        "fd.close()\n"
      ],
      "execution_count": 242,
      "outputs": []
    }
  ]
}